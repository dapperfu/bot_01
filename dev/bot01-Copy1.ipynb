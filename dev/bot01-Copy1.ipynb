{
 "cells": [
  {
   "cell_type": "code",
   "execution_count": 11,
   "metadata": {
    "collapsed": false,
    "deletable": true,
    "editable": true
   },
   "outputs": [],
   "source": [
    "from jinja2 import Template\n",
    "import os\n",
    "os.chdir(\"../HAL/\")"
   ]
  },
  {
   "cell_type": "code",
   "execution_count": 4,
   "metadata": {
    "collapsed": false,
    "deletable": true,
    "editable": true
   },
   "outputs": [
    {
     "data": {
      "text/plain": [
       "'int analogValue_0 = 0;'"
      ]
     },
     "execution_count": 4,
     "metadata": {},
     "output_type": "execute_result"
    }
   ],
   "source": [
    "class ArduinoIO(object):\n",
    "    def __init__(self):\n",
    "        self.items = list()\n",
    "\n",
    "class Analog(object):\n",
    "    def __init__(self, pin=\"A0\"):\n",
    "        if isinstance(pin, str):\n",
    "            if pin[0]==\"A\":\n",
    "                self.pin = int(pin[1:])\n",
    "            else:\n",
    "                self.pin = int(pin)\n",
    "        else:\n",
    "            self.pin = int(pin)\n",
    "            \n",
    "    @property\n",
    "    def variable(self):\n",
    "        return \"analogValue_{}\".format(self.pin)\n",
    "        \n",
    "    @property\n",
    "    def header(self):\n",
    "        return \"int {} = 0;\".format(self.variable)\n",
    "    \n",
    "    @property\n",
    "    def loop(self):\n",
    "        return \"\"\"\n",
    "  // Analog Input {pin}\n",
    "  {variable} = analogRead({pin});\n",
    "  Serial.print(\"A{pin}=\");\n",
    "  Serial.print({variable});\n",
    "  Serial.print(\",\");\n",
    "        \"\"\".format(pin = self.pin, variable = self.variable)\n",
    "    \n",
    "a0 = Analog(0)\n",
    "a0.header"
   ]
  },
  {
   "cell_type": "code",
   "execution_count": 5,
   "metadata": {
    "collapsed": false,
    "deletable": true,
    "editable": true
   },
   "outputs": [],
   "source": [
    "arduino = ArduinoIO()\n",
    "for i in range(6):\n",
    "    arduino.items.append(Analog(i))"
   ]
  },
  {
   "cell_type": "code",
   "execution_count": 15,
   "metadata": {
    "collapsed": false,
    "deletable": true,
    "editable": true
   },
   "outputs": [],
   "source": [
    "ino = Template(\"\"\"\n",
    "{%- for item in arduino.items %}\n",
    "{{ item.header }}\n",
    "{%-endfor %}\n",
    "\n",
    "void setup() {\n",
    "  Serial.begin(115200);\n",
    "  \n",
    "}\n",
    "\n",
    "void loop() {\n",
    "{%- for item in arduino.items %}\n",
    "{{- item.loop }}\n",
    "{%-endfor %}\n",
    "\n",
    "  Serial.println(\"\");\n",
    "  delay(2500);\n",
    "}\n",
    "\"\"\")"
   ]
  },
  {
   "cell_type": "code",
   "execution_count": 16,
   "metadata": {
    "collapsed": true,
    "deletable": true,
    "editable": true
   },
   "outputs": [],
   "source": [
    "with open(\"HAL.ino\", \"w\") as fid:\n",
    "    print(ino.render(arduino = arduino), file=fid)"
   ]
  },
  {
   "cell_type": "code",
   "execution_count": 17,
   "metadata": {
    "collapsed": false,
    "deletable": true,
    "editable": true,
    "scrolled": false
   },
   "outputs": [
    {
     "name": "stdout",
     "output_type": "stream",
     "text": [
      "-------------------------\n",
      "Arduino.mk Configuration:\n",
      "- [AUTODETECTED]       CURRENT_OS = LINUX \n",
      "- [USER]               ARDUINO_DIR = /home/jafrey/bot_01/arduino \n",
      "- [USER]               ARDMK_DIR = /home/jafrey/bot_01/arduino_make \n",
      "- [DEFAULT]            ARDUINO_VERSION = 100 \n",
      "- [USER]               ARCHITECTURE = avr \n",
      "- [USER]               VENDOR = arduino \n",
      "- [DEFAULT]            ARDUINO_SKETCHBOOK =  \n",
      "- [AUTODETECTED]       AVR_TOOLS_DIR = /usr (found in $PATH)\n",
      "- [COMPUTED]           ARDUINO_LIB_PATH = /home/jafrey/bot_01/arduino/libraries (from ARDUINO_DIR)\n",
      "- [COMPUTED]           ARDUINO_VAR_PATH = /home/jafrey/bot_01/arduino/hardware/arduino/avr/variants (from ARDUINO_DIR)\n",
      "- [COMPUTED]           BOARDS_TXT = /home/jafrey/bot_01/arduino/hardware/arduino/avr/boards.txt (from ARDUINO_DIR)\n",
      "- [DEFAULT]            USER_LIB_PATH = /libraries (in user sketchbook)\n",
      "- [DEFAULT]            PRE_BUILD_HOOK = pre-build-hook.sh \n",
      "- [USER]               BOARD_SUB = atmega328 \n",
      "- [USER]               BOARD_TAG = nano \n",
      "- [COMPUTED]           CORE = arduino (from build.core)\n",
      "- [COMPUTED]           VARIANT = eightanaloginputs (from build.variant)\n",
      "- [COMPUTED]           OBJDIR = build-nano-atmega328 (from BOARD_TAG)\n",
      "- [COMPUTED]           ARDUINO_CORE_PATH = /home/jafrey/bot_01/arduino/hardware/arduino/avr/cores/arduino (from ARDUINO_DIR, BOARD_TAG and boards.txt)\n",
      "- [USER]               MONITOR_BAUDRATE = 115200 \n",
      "- [DEFAULT]            OPTIMIZATION_LEVEL = s \n",
      "- [DEFAULT]            MCU_FLAG_NAME = mmcu \n",
      "- [DEFAULT]            CFLAGS_STD =  \n",
      "- [DEFAULT]            CXXFLAGS_STD =  \n",
      "- [AUTODETECTED]       DEVICE_PATH = /dev/ttyUSB0 \n",
      "- [DEFAULT]            FORCE_MONITOR_PORT =  \n",
      "- [AUTODETECTED]       Size utility: AVR-aware for enhanced output\n",
      "- [COMPUTED]           BOOTLOADER_PARENT = /home/jafrey/bot_01/arduino/hardware/arduino/avr/bootloaders (from ARDUINO_DIR)\n",
      "- [COMPUTED]           ARDMK_VERSION = 1.5 \n",
      "- [COMPUTED]           CC_VERSION = 4.9.2 (avr-gcc)\n",
      "-------------------------\n",
      "mkdir -p build-nano-atmega328\n",
      "/usr/bin/avr-g++ -x c++ -include Arduino.h -MMD -c -mmcu=atmega328p -DF_CPU=16000000L -DARDUINO=100 -DARDUINO_ARCH_AVR -D__PROG_TYPES_COMPAT__ -I/home/jafrey/bot_01/arduino/hardware/arduino/avr/cores/arduino -I/home/jafrey/bot_01/arduino/hardware/arduino/avr/variants/eightanaloginputs    -Wall -ffunction-sections -fdata-sections -Os -fno-exceptions  HAL.ino -o build-nano-atmega328/HAL.o\n",
      "/usr/bin/avr-gcc -mmcu=atmega328p -Wl,--gc-sections -Os -o build-nano-atmega328/HAL.elf build-nano-atmega328/HAL.o build-nano-atmega328/libcore.a  -lc -lm\n",
      "/usr/bin/avr-objcopy -j .eeprom --set-section-flags=.eeprom='alloc,load' \\\n",
      "\t--change-section-lma .eeprom=0 -O ihex build-nano-atmega328/HAL.elf build-nano-atmega328/HAL.eep\n",
      "/usr/bin/avr-objcopy: --change-section-lma .eeprom=0x0000000000000000 never used\n",
      "/usr/bin/avr-objcopy -O ihex -R .eeprom build-nano-atmega328/HAL.elf build-nano-atmega328/HAL.hex\n",
      "\n",
      "/usr/bin/avr-size --mcu=atmega328p -C --format=avr build-nano-atmega328/HAL.elf\n",
      "AVR Memory Usage\n",
      "----------------\n",
      "Device: atmega328p\n",
      "\n",
      "Program:    2694 bytes (8.2% Full)\n",
      "(.text + .data + .bootloader)\n",
      "\n",
      "Data:        238 bytes (11.6% Full)\n",
      "(.data + .bss + .noinit)\n",
      "\n",
      "\n"
     ]
    }
   ],
   "source": [
    "!make\n",
    "!make upload"
   ]
  },
  {
   "cell_type": "code",
   "execution_count": 18,
   "metadata": {
    "collapsed": false,
    "deletable": true,
    "editable": true
   },
   "outputs": [
    {
     "name": "stdout",
     "output_type": "stream",
     "text": [
      "-------------------------\n",
      "Arduino.mk Configuration:\n",
      "- [AUTODETECTED]       CURRENT_OS = LINUX \n",
      "- [USER]               ARDUINO_DIR = /home/jafrey/bot_01/arduino \n",
      "- [USER]               ARDMK_DIR = /home/jafrey/bot_01/arduino_make \n",
      "- [DEFAULT]            ARDUINO_VERSION = 100 \n",
      "- [USER]               ARCHITECTURE = avr \n",
      "- [USER]               VENDOR = arduino \n",
      "- [DEFAULT]            ARDUINO_SKETCHBOOK =  \n",
      "- [AUTODETECTED]       AVR_TOOLS_DIR = /usr (found in $PATH)\n",
      "- [COMPUTED]           ARDUINO_LIB_PATH = /home/jafrey/bot_01/arduino/libraries (from ARDUINO_DIR)\n",
      "- [COMPUTED]           ARDUINO_VAR_PATH = /home/jafrey/bot_01/arduino/hardware/arduino/avr/variants (from ARDUINO_DIR)\n",
      "- [COMPUTED]           BOARDS_TXT = /home/jafrey/bot_01/arduino/hardware/arduino/avr/boards.txt (from ARDUINO_DIR)\n",
      "- [DEFAULT]            USER_LIB_PATH = /libraries (in user sketchbook)\n",
      "- [DEFAULT]            PRE_BUILD_HOOK = pre-build-hook.sh \n",
      "- [USER]               BOARD_SUB = atmega328 \n",
      "- [USER]               BOARD_TAG = nano \n",
      "- [COMPUTED]           CORE = arduino (from build.core)\n",
      "- [COMPUTED]           VARIANT = eightanaloginputs (from build.variant)\n",
      "- [COMPUTED]           OBJDIR = build-nano-atmega328 (from BOARD_TAG)\n",
      "- [COMPUTED]           ARDUINO_CORE_PATH = /home/jafrey/bot_01/arduino/hardware/arduino/avr/cores/arduino (from ARDUINO_DIR, BOARD_TAG and boards.txt)\n",
      "- [USER]               MONITOR_BAUDRATE = 115200 \n",
      "- [DEFAULT]            OPTIMIZATION_LEVEL = s \n",
      "- [DEFAULT]            MCU_FLAG_NAME = mmcu \n",
      "- [DEFAULT]            CFLAGS_STD =  \n",
      "- [DEFAULT]            CXXFLAGS_STD =  \n",
      "- [AUTODETECTED]       DEVICE_PATH = /dev/ttyUSB0 \n",
      "- [DEFAULT]            FORCE_MONITOR_PORT =  \n",
      "- [AUTODETECTED]       Size utility: AVR-aware for enhanced output\n",
      "- [COMPUTED]           BOOTLOADER_PARENT = /home/jafrey/bot_01/arduino/hardware/arduino/avr/bootloaders (from ARDUINO_DIR)\n",
      "- [COMPUTED]           ARDMK_VERSION = 1.5 \n",
      "- [COMPUTED]           CC_VERSION = 4.9.2 (avr-gcc)\n",
      "-------------------------\n",
      "mkdir -p build-nano-atmega328\n",
      "make reset\n",
      "make[1]: Entering directory '/home/jafrey/bot_01/HAL'\n",
      "/home/jafrey/bot_01/arduino_make/bin/ard-reset-arduino  /dev/ttyUSB0\n",
      "make[1]: Leaving directory '/home/jafrey/bot_01/HAL'\n",
      "make do_upload\n",
      "make[1]: Entering directory '/home/jafrey/bot_01/HAL'\n",
      "/usr/bin/avrdude -q -V -p atmega328p -D -c arduino -b 57600 -P /dev/ttyUSB0 \\\n",
      "\t\t-U flash:w:build-nano-atmega328/HAL.hex:i\n",
      "\n",
      "avrdude: AVR device initialized and ready to accept instructions\n",
      "avrdude: Device signature = 0x1e950f (probably m328p)\n",
      "avrdude: reading input file \"build-nano-atmega328/HAL.hex\"\n",
      "avrdude: writing flash (2694 bytes):\n",
      "avrdude: 2694 bytes of flash written\n",
      "\n",
      "avrdude: safemode: Fuses OK (E:00, H:00, L:00)\n",
      "\n",
      "avrdude done.  Thank you.\n",
      "\n",
      "make[1]: Leaving directory '/home/jafrey/bot_01/HAL'\n"
     ]
    }
   ],
   "source": []
  },
  {
   "cell_type": "code",
   "execution_count": null,
   "metadata": {
    "collapsed": true,
    "deletable": true,
    "editable": true
   },
   "outputs": [],
   "source": []
  },
  {
   "cell_type": "code",
   "execution_count": null,
   "metadata": {
    "collapsed": true
   },
   "outputs": [],
   "source": []
  }
 ],
 "metadata": {
  "kernelspec": {
   "display_name": "Python 3",
   "language": "python",
   "name": "python3"
  },
  "language_info": {
   "codemirror_mode": {
    "name": "ipython",
    "version": 3
   },
   "file_extension": ".py",
   "mimetype": "text/x-python",
   "name": "python",
   "nbconvert_exporter": "python",
   "pygments_lexer": "ipython3",
   "version": "3.5.2"
  }
 },
 "nbformat": 4,
 "nbformat_minor": 2
}
