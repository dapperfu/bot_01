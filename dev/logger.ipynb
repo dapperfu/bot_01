{
 "cells": [
  {
   "cell_type": "code",
   "execution_count": 1,
   "metadata": {
    "collapsed": true,
    "deletable": true,
    "editable": true
   },
   "outputs": [],
   "source": [
    "import serial"
   ]
  },
  {
   "cell_type": "code",
   "execution_count": 3,
   "metadata": {
    "collapsed": false
   },
   "outputs": [],
   "source": [
    "port = serial.Serial(\"/dev/ttyUSB0\", 115200)"
   ]
  },
  {
   "cell_type": "code",
   "execution_count": 4,
   "metadata": {
    "collapsed": true
   },
   "outputs": [],
   "source": []
  },
  {
   "cell_type": "code",
   "execution_count": 5,
   "metadata": {
    "collapsed": true
   },
   "outputs": [],
   "source": []
  },
  {
   "cell_type": "code",
   "execution_count": 18,
   "metadata": {
    "collapsed": false
   },
   "outputs": [],
   "source": []
  },
  {
   "cell_type": "code",
   "execution_count": 31,
   "metadata": {
    "collapsed": false
   },
   "outputs": [
    {
     "name": "stdout",
     "output_type": "stream",
     "text": [
      "Press Enter to continue...flat\n",
      "flat: 142 220 322\n",
      "Press Enter to continue...roll left\n",
      "roll left: 147 225 327\n",
      "Press Enter to continue...roll right \n",
      "roll right : 134 220 312\n",
      "Press Enter to continue...\n",
      ": 146 241 361\n",
      "Press Enter to continue...\n",
      ": 161 245 348\n"
     ]
    }
   ],
   "source": [
    "for i in range(5):\n",
    "    name = input(\"Press Enter to continue...\")\n",
    "\n",
    "    port.flushInput()\n",
    "    port.flush()\n",
    "    data = port.readline().decode().strip().strip(\",\")\n",
    "    datad = dict()\n",
    "    for datapair in data.split(\",\"):\n",
    "        pin, value = datapair.split(\"=\")\n",
    "        datad[pin] = int(value)\n",
    "\n",
    "    print(\"{}: {} {} {}\".format(name, datad[\"A3\"], datad[\"A4\"], datad[\"A5\"]))"
   ]
  },
  {
   "cell_type": "code",
   "execution_count": 24,
   "metadata": {
    "collapsed": false
   },
   "outputs": [
    {
     "name": "stdout",
     "output_type": "stream",
     "text": [
      "Press Enter to continue...flat\n",
      "flat: 125 400 459\n",
      "Press Enter to continue...roll left\n",
      "roll left: 125 400 459\n",
      "Press Enter to continue...\n",
      ": 125 400 459\n",
      "Press Enter to continue...\n",
      ": 125 400 459\n",
      "Press Enter to continue...\n",
      ": 125 400 459\n"
     ]
    }
   ],
   "source": []
  },
  {
   "cell_type": "code",
   "execution_count": null,
   "metadata": {
    "collapsed": true
   },
   "outputs": [],
   "source": []
  }
 ],
 "metadata": {
  "kernelspec": {
   "display_name": "Python 3",
   "language": "python",
   "name": "python3"
  },
  "language_info": {
   "codemirror_mode": {
    "name": "ipython",
    "version": 3
   },
   "file_extension": ".py",
   "mimetype": "text/x-python",
   "name": "python",
   "nbconvert_exporter": "python",
   "pygments_lexer": "ipython3",
   "version": "3.5.2"
  }
 },
 "nbformat": 4,
 "nbformat_minor": 2
}
